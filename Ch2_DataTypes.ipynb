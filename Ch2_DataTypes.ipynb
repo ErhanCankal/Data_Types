{
 "cells": [
  {
   "cell_type": "markdown",
   "id": "33866d1c",
   "metadata": {},
   "source": [
    "# String Assignment"
   ]
  },
  {
   "cell_type": "markdown",
   "id": "2617008f",
   "metadata": {},
   "source": [
    "# 1)"
   ]
  },
  {
   "cell_type": "code",
   "execution_count": 17,
   "id": "9cf7ff0e",
   "metadata": {},
   "outputs": [
    {
     "name": "stdout",
     "output_type": "stream",
     "text": [
      "Please Enter your First Name: erhan\n",
      "Please Enter your Last Name: çankal\n",
      "Erhan Çankal\n"
     ]
    }
   ],
   "source": [
    "name = input('Please Enter your First Name: ')\n",
    "surname = input('Please Enter your Last Name: ')\n",
    "print(name.capitalize()+ ' ' + surname.capitalize())\n"
   ]
  },
  {
   "cell_type": "markdown",
   "id": "2d1f0788",
   "metadata": {},
   "source": [
    "# 2)"
   ]
  },
  {
   "cell_type": "code",
   "execution_count": 2,
   "id": "3ec54047",
   "metadata": {},
   "outputs": [
    {
     "name": "stdout",
     "output_type": "stream",
     "text": [
      "Type in the first line of a poem Raven: Deep into that darkness peering\n"
     ]
    },
    {
     "data": {
      "text/plain": [
       "31"
      ]
     },
     "execution_count": 2,
     "metadata": {},
     "output_type": "execute_result"
    }
   ],
   "source": [
    "firstline = input('Type in the first line of a poem Raven: ')\n",
    "len(firstline)"
   ]
  },
  {
   "cell_type": "code",
   "execution_count": 2,
   "id": "6b05d137",
   "metadata": {},
   "outputs": [
    {
     "name": "stdout",
     "output_type": "stream",
     "text": [
      "enter starting number: 5\n",
      "enter ending number: 7\n",
      "in\n"
     ]
    }
   ],
   "source": [
    "poem = \"\"\"Deep into that darkness peering,\n",
    "\n",
    "Long I stood there, wondering, fearing,\n",
    "\n",
    "Doubting, dreaming dreams no mortals\n",
    "\n",
    "Ever dared to dream before;\n",
    "\n",
    "But the silence was unbroken,\n",
    "\n",
    "And the stillness gave no token,\n",
    "\n",
    "And the only word there spoken\n",
    "\n",
    "Was the whispered word, \"Lenore!\"\n",
    "\n",
    "This I whispered, and an echo\n",
    "\n",
    "Murmured back the word, \"Lenore!\"\n",
    "\n",
    "Merely this, and nothing more.\"\"\"\n",
    "\n",
    "starting_number = int(input('enter starting number: '))\n",
    "ending_number = int(input('enter ending number: '))\n",
    "poem\n",
    "\n",
    "print(poem[starting_number:ending_number])\n",
    "\n",
    "\n"
   ]
  },
  {
   "cell_type": "markdown",
   "id": "235f7d80",
   "metadata": {},
   "source": [
    "# 3)"
   ]
  },
  {
   "cell_type": "code",
   "execution_count": 3,
   "id": "9ba40a4d",
   "metadata": {
    "scrolled": false
   },
   "outputs": [
    {
     "name": "stdout",
     "output_type": "stream",
     "text": [
      "Deep into that darkness peering,\n",
      "\n",
      "Long I stood there, wondering, fearing,\n",
      "\n",
      "Doubting, dreaming dreams no mortals\n",
      "\n",
      "Ever dared to dream before;\n",
      "\n",
      "But the silence was unbroken,\n",
      "\n",
      "And the stillness gave no token,\n",
      "\n",
      "And the only word there spoken\n",
      "\n",
      "Was the whispered word, \"Lenore!\"\n",
      "\n",
      "This I whispered, and an echo\n",
      "\n",
      "Murmured back the word, \"Lenore!\"\n",
      "\n",
      "Merely this, and nothing more.\n"
     ]
    }
   ],
   "source": [
    "removed_whitespaces = poem.strip()\n",
    "print(removed_whitespaces)"
   ]
  },
  {
   "cell_type": "markdown",
   "id": "de586842",
   "metadata": {},
   "source": [
    "# Variable Assignment"
   ]
  },
  {
   "cell_type": "markdown",
   "id": "3d54ff6c",
   "metadata": {},
   "source": [
    "# 1)"
   ]
  },
  {
   "cell_type": "code",
   "execution_count": 4,
   "id": "620ec8b4",
   "metadata": {
    "scrolled": true
   },
   "outputs": [
    {
     "name": "stdout",
     "output_type": "stream",
     "text": [
      "<class 'int'>\n",
      "<class 'str'>\n"
     ]
    }
   ],
   "source": [
    "x = 1\n",
    "y = '1'\n",
    "\n",
    "print(type(x))\n",
    "print(type(y))"
   ]
  },
  {
   "cell_type": "markdown",
   "id": "80c91119",
   "metadata": {},
   "source": [
    "# 2)"
   ]
  },
  {
   "cell_type": "code",
   "execution_count": 6,
   "id": "c5242d79",
   "metadata": {},
   "outputs": [
    {
     "name": "stdout",
     "output_type": "stream",
     "text": [
      "<class 'int'>\n",
      "<class 'int'>\n"
     ]
    }
   ],
   "source": [
    "y = int(y)\n",
    "print(type(x))\n",
    "print(type(y))"
   ]
  },
  {
   "cell_type": "markdown",
   "id": "2546c5eb",
   "metadata": {},
   "source": [
    "# Data Types Assignment"
   ]
  },
  {
   "cell_type": "markdown",
   "id": "afca62a5",
   "metadata": {},
   "source": [
    "# 1)"
   ]
  },
  {
   "cell_type": "code",
   "execution_count": 7,
   "id": "1ab8f31d",
   "metadata": {},
   "outputs": [
    {
     "name": "stdout",
     "output_type": "stream",
     "text": [
      "Result = 2210.6814074060812\n"
     ]
    }
   ],
   "source": [
    "capital = 1000\n",
    "dailypct = 12\n",
    "period = 7\n",
    "result = capital * pow((1 + dailypct / 100), period)\n",
    "growth = result - capital\n",
    "growth_rate = growth/capital*100\n",
    "print('Result = {}'.format(result))\n"
   ]
  },
  {
   "cell_type": "markdown",
   "id": "6dba0d65",
   "metadata": {},
   "source": [
    "# 2)"
   ]
  },
  {
   "cell_type": "code",
   "execution_count": 8,
   "id": "17928507",
   "metadata": {},
   "outputs": [
    {
     "name": "stdout",
     "output_type": "stream",
     "text": [
      "When we buy bitcoin with 1000 USD at the beginning of the week,\n",
      "we would earn 1210.6814074060812 USD at the end of the week, with an average gain of 121.06814074060811%.\n"
     ]
    }
   ],
   "source": [
    "print('When we buy bitcoin with {} USD at the beginning of the week,\\nwe would earn {} USD at the end of the week, with an average gain of {}%.'.format(capital, growth, growth_rate))"
   ]
  },
  {
   "cell_type": "markdown",
   "id": "a2327846",
   "metadata": {},
   "source": [
    "# 3)"
   ]
  },
  {
   "cell_type": "code",
   "execution_count": 9,
   "id": "c30db032",
   "metadata": {},
   "outputs": [
    {
     "name": "stdout",
     "output_type": "stream",
     "text": [
      "Enter the temperature in Fahrenheit: 63\n",
      "Temprature (C): 17.22222222222222\n"
     ]
    }
   ],
   "source": [
    "fahr = float(input(\"Enter the temperature in Fahrenheit: \"))\n",
    "celsius = (5/9) * (fahr - 32)\n",
    "print(f\"Temprature (C): {celsius}\")"
   ]
  },
  {
   "cell_type": "markdown",
   "id": "4d490bc1",
   "metadata": {},
   "source": [
    "# 4)"
   ]
  },
  {
   "cell_type": "code",
   "execution_count": 10,
   "id": "db8e0ca4",
   "metadata": {
    "scrolled": true
   },
   "outputs": [
    {
     "name": "stdout",
     "output_type": "stream",
     "text": [
      "Enter three digit number: 321\n",
      "The sum of digits in the number is 6\n"
     ]
    }
   ],
   "source": [
    "num = (input('Enter three digit number: '))\n",
    "print(f\"The sum of digits in the number is {int(num[0]) + int(num[1]) + int(num[2])}\")"
   ]
  },
  {
   "cell_type": "markdown",
   "id": "70e937be",
   "metadata": {},
   "source": [
    "# 5)"
   ]
  },
  {
   "cell_type": "code",
   "execution_count": 11,
   "id": "e332a51b",
   "metadata": {},
   "outputs": [
    {
     "name": "stdout",
     "output_type": "stream",
     "text": [
      "Enter first side length: 7\n",
      "Enter second side length: 9\n",
      "The length of the hypotenuse is 11.40175425099138\n"
     ]
    }
   ],
   "source": [
    "import numpy as np\n",
    "first_length = float(input(\"Enter first side length: \"))\n",
    "second_length = float(input(\"Enter second side length: \"))\n",
    "hypotenuse = np.sqrt(first_length**2 + second_length**2)\n",
    "print(f\"The length of the hypotenuse is {hypotenuse}\")"
   ]
  },
  {
   "cell_type": "markdown",
   "id": "d984a189",
   "metadata": {},
   "source": [
    "# Python Basics Assignment"
   ]
  },
  {
   "cell_type": "markdown",
   "id": "4878d368",
   "metadata": {},
   "source": [
    "# 1)"
   ]
  },
  {
   "cell_type": "code",
   "execution_count": 12,
   "id": "ca4b5f48",
   "metadata": {},
   "outputs": [
    {
     "name": "stdout",
     "output_type": "stream",
     "text": [
      "Enter your first name:erhan\n",
      "Enter your surname:çankal\n",
      "erhan çankal\n"
     ]
    }
   ],
   "source": [
    "fname = input('Enter your first name:')\n",
    "lname = input('Enter your surname:')\n",
    "print(fname+ ' ' + lname)"
   ]
  },
  {
   "cell_type": "markdown",
   "id": "364c090a",
   "metadata": {},
   "source": [
    "# 2)"
   ]
  },
  {
   "cell_type": "code",
   "execution_count": 13,
   "id": "ad882fe2",
   "metadata": {},
   "outputs": [
    {
     "name": "stdout",
     "output_type": "stream",
     "text": [
      "erhan\n",
      "çankal\n"
     ]
    }
   ],
   "source": [
    "print(fname+ '\\n' + lname)"
   ]
  },
  {
   "cell_type": "markdown",
   "id": "d43324eb",
   "metadata": {},
   "source": [
    "# 3)"
   ]
  },
  {
   "cell_type": "code",
   "execution_count": 14,
   "id": "95feda7a",
   "metadata": {},
   "outputs": [
    {
     "name": "stdout",
     "output_type": "stream",
     "text": [
      "`I don't want to be an \"artist\". I want to be a \"Data Scientist.\"`\n"
     ]
    }
   ],
   "source": [
    "print(\"\"\"`I don't want to be an \"artist\". I want to be a \"Data Scientist.\"`\"\"\")"
   ]
  },
  {
   "cell_type": "code",
   "execution_count": null,
   "id": "d91757e9",
   "metadata": {},
   "outputs": [],
   "source": []
  }
 ],
 "metadata": {
  "kernelspec": {
   "display_name": "Python 3 (ipykernel)",
   "language": "python",
   "name": "python3"
  },
  "language_info": {
   "codemirror_mode": {
    "name": "ipython",
    "version": 3
   },
   "file_extension": ".py",
   "mimetype": "text/x-python",
   "name": "python",
   "nbconvert_exporter": "python",
   "pygments_lexer": "ipython3",
   "version": "3.10.4"
  }
 },
 "nbformat": 4,
 "nbformat_minor": 5
}
